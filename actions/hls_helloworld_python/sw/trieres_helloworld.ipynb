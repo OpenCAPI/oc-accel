{
 "cells": [
  {
   "cell_type": "markdown",
   "metadata": {},
   "source": [
    "## TRIERES showcase\n",
    "### Case study: Give an input string to FPGA and get the upper-case string from FPGA \n",
    "### You don't need FPGA knowledge, just basic Python syntax !!!"
   ]
  },
  {
   "cell_type": "markdown",
   "metadata": {},
   "source": [
    "![Trieres Logo](./etc/trieres.png)\n",
    "\n",
    "Assuming that the FPGA is already flashed"
   ]
  },
  {
   "cell_type": "markdown",
   "metadata": {},
   "source": [
    "Configure the Python path to look for FPGA aceleration library"
   ]
  },
  {
   "cell_type": "code",
   "execution_count": 1,
   "metadata": {},
   "outputs": [],
   "source": [
    "import time\n",
    "import sys\n",
    "import os"
   ]
  },
  {
   "cell_type": "code",
   "execution_count": 36,
   "metadata": {},
   "outputs": [],
   "source": [
    "snap_action_sw=os.environ['SNAP_ROOT'] + \"/actions/hls_helloworld_python/sw\"\n",
    "sys.path.append(snap_action_sw)"
   ]
  },
  {
   "cell_type": "markdown",
   "metadata": {},
   "source": [
    "Import the FPGA accelerator library"
   ]
  },
  {
   "cell_type": "code",
   "execution_count": 37,
   "metadata": {},
   "outputs": [],
   "source": [
    "import snap_helloworld_python"
   ]
  },
  {
   "cell_type": "code",
   "execution_count": 38,
   "metadata": {},
   "outputs": [],
   "source": [
    "input = \"Hello world. This is my first OpenCAPI TriEres experience with Python. It's extremely fun\""
   ]
  },
  {
   "cell_type": "markdown",
   "metadata": {},
   "source": [
    "Currently we reserve space on host for output (can also be done in library)"
   ]
  },
  {
   "cell_type": "code",
   "execution_count": 39,
   "metadata": {},
   "outputs": [],
   "source": [
    "fpga_output = \"11111111111111111111111111111111111111111111111111111111111111111111111111111111111111\""
   ]
  },
  {
   "cell_type": "markdown",
   "metadata": {},
   "source": [
    "Execute the FPGA accelerator as a Python function"
   ]
  },
  {
   "cell_type": "code",
   "execution_count": 50,
   "metadata": {},
   "outputs": [],
   "source": [
    "start_fpga = time.time()\n",
    "\n",
    "out, fpga_output = snap_helloworld_python.uppercase(input)\n",
    "\n",
    "done_fpga = time.time()\n",
    "elapsed_fpga = done_fpga - start_fpga"
   ]
  },
  {
   "cell_type": "code",
   "execution_count": 41,
   "metadata": {},
   "outputs": [
    {
     "name": "stdout",
     "output_type": "stream",
     "text": [
      "Output from FPGA:HELLO WORLD. THIS IS MY FIRST OPENCAPI TRIERES EXPERIENCE WITH PYTHON. IT'S EXTREMELY FUN\n"
     ]
    }
   ],
   "source": [
    "print(\"Output from FPGA:\"+fpga_output)"
   ]
  },
  {
   "cell_type": "code",
   "execution_count": 48,
   "metadata": {},
   "outputs": [
    {
     "name": "stdout",
     "output_type": "stream",
     "text": [
      "Output from CPU :HELLO WORLD. THIS IS MY FIRST OPENCAPI TRIERES EXPERIENCE WITH PYTHON. IT'S EXTREMELY FUN\n"
     ]
    }
   ],
   "source": [
    "start_cpu = time.time()\n",
    "\n",
    "cpu_output=input.upper()\n",
    "\n",
    "done_cpu = time.time()\n",
    "print(\"Output from CPU :\"+cpu_output)\n",
    "elapsed_cpu = done_cpu - start_cpu"
   ]
  },
  {
   "cell_type": "code",
   "execution_count": 53,
   "metadata": {},
   "outputs": [
    {
     "name": "stdout",
     "output_type": "stream",
     "text": [
      "FPGA time = 0.0015819073\n",
      "CPU time  = 0.0000782013\n"
     ]
    }
   ],
   "source": [
    "print(\"FPGA time = \"+'{0:.10f}'.format(elapsed_fpga)+\"\\nCPU time  = \"+'{0:.10f}'.format(elapsed_cpu))"
   ]
  }
 ],
 "metadata": {
  "kernelspec": {
   "display_name": "Python 3",
   "language": "python",
   "name": "python3"
  },
  "language_info": {
   "codemirror_mode": {
    "name": "ipython",
    "version": 3
   },
   "file_extension": ".py",
   "mimetype": "text/x-python",
   "name": "python",
   "nbconvert_exporter": "python",
   "pygments_lexer": "ipython3",
   "version": "3.5.2"
  }
 },
 "nbformat": 4,
 "nbformat_minor": 2
}
